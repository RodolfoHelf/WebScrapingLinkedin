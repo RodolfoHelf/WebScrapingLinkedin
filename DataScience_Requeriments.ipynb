{
 "cells": [
  {
   "cell_type": "code",
   "execution_count": 59,
   "metadata": {},
   "outputs": [
    {
     "name": "stdout",
     "output_type": "stream",
     "text": [
      "2167 ['https://br.linkedin.com/jobs/view/cientista-de-dados-full-remoto-at-luizalabs-3138817891?refId=f4BGnTjHnCft%2BKb871cm2g%3D%3D&trackingId=5QljL9gUVWuMsvqxYRWxuA%3D%3D&position=1&pageNum=0&trk=public_jobs_jserp-result_search-card', 'https://br.linkedin.com/jobs/view/cientista-de-dados-jr-at-serasa-experian-3139661171?refId=f4BGnTjHnCft%2BKb871cm2g%3D%3D&trackingId=49ipwj7mp06yBw3WdPb57Q%3D%3D&position=2&pageNum=0&trk=public_jobs_jserp-result_search-card', 'https://br.linkedin.com/jobs/view/machine-learning-engineer-at-ataway-3143416063?refId=f4BGnTjHnCft%2BKb871cm2g%3D%3D&trackingId=20oDZawExWmrnPoP7ht1Xw%3D%3D&position=3&pageNum=0&trk=public_jobs_jserp-result_search-card', 'https://br.linkedin.com/jobs/view/pessoa-engenheira-de-dados-big-data-ai-at-globo-3067366639?refId=f4BGnTjHnCft%2BKb871cm2g%3D%3D&trackingId=AoUrDZORpjX0fauLcEciqw%3D%3D&position=4&pageNum=0&trk=public_jobs_jserp-result_search-card', 'https://br.linkedin.com/jobs/view/est%C3%A1gio-em-ci%C3%AAncia-de-dados-at-grhats-recursos-humanos-3137998942?refId=f4BGnTjHnCft%2BKb871cm2g%3D%3D&trackingId=8yzrdJV4m6F09bkg8I0jHw%3D%3D&position=5&pageNum=0&trk=public_jobs_jserp-result_search-card', 'https://br.linkedin.com/jobs/view/cientista-de-dados-banco-de-talentos-at-luizalabs-3101789230?refId=f4BGnTjHnCft%2BKb871cm2g%3D%3D&trackingId=JiWcuWHRo8lvk8aSVmNDtw%3D%3D&position=6&pageNum=0&trk=public_jobs_jserp-result_search-card', 'https://br.linkedin.com/jobs/view/cientista-de-dados-jr-at-vibra-energia-3082707703?refId=f4BGnTjHnCft%2BKb871cm2g%3D%3D&trackingId=GjkdfMugxKm8O4kdffdw1Q%3D%3D&position=7&pageNum=0&trk=public_jobs_jserp-result_search-card', 'https://br.linkedin.com/jobs/view/est%C3%A1gio-em-ci%C3%AAncia-de-dados-at-grh-group-3102157139?refId=f4BGnTjHnCft%2BKb871cm2g%3D%3D&trackingId=Jc8lQbweLMyecIqu9RL2OQ%3D%3D&position=8&pageNum=0&trk=public_jobs_jserp-result_search-card', 'https://br.linkedin.com/jobs/view/cientista-de-dados-at-natura-3106013751?refId=f4BGnTjHnCft%2BKb871cm2g%3D%3D&trackingId=P9zUSAiXyRLYevhhoIF8fQ%3D%3D&position=9&pageNum=0&trk=public_jobs_jserp-result_search-card', 'https://br.linkedin.com/jobs/view/estagio-em-data-analytics-at-metlife-3096842947?refId=f4BGnTjHnCft%2BKb871cm2g%3D%3D&trackingId=z3u6W1RYjz1KgcYipdyjig%3D%3D&position=10&pageNum=0&trk=public_jobs_jserp-result_search-card', 'https://br.linkedin.com/jobs/view/analista-de-dados-j%C3%BAnior-at-riachuelo-3082177173?refId=f4BGnTjHnCft%2BKb871cm2g%3D%3D&trackingId=XKNJAL5Yv7NSVwJQyIXlbw%3D%3D&position=11&pageNum=0&trk=public_jobs_jserp-result_search-card', 'https://br.linkedin.com/jobs/view/est%C3%A1gio-em-an%C3%A1lise-e-intelig%C3%AAncia-de-dados-at-nimbi-s-a-3139887270?refId=f4BGnTjHnCft%2BKb871cm2g%3D%3D&trackingId=fur9giFb5urYc7mcwqIFiA%3D%3D&position=12&pageNum=0&trk=public_jobs_jserp-result_search-card', 'https://br.linkedin.com/jobs/view/analista-ci%C3%AAncia-de-dados-pl-4852-departamento-gest%C3%A3o-de-dados-at-bradesco-3141746733?refId=f4BGnTjHnCft%2BKb871cm2g%3D%3D&trackingId=L0Gs0xNY%2BJyFFkl4TqStFQ%3D%3D&position=13&pageNum=0&trk=public_jobs_jserp-result_search-card', 'https://br.linkedin.com/jobs/view/cientista-de-dados-at-neon-3127538927?refId=f4BGnTjHnCft%2BKb871cm2g%3D%3D&trackingId=LFJKigV1DN%2BNQE2xiPBcew%3D%3D&position=14&pageNum=0&trk=public_jobs_jserp-result_search-card', 'https://br.linkedin.com/jobs/view/machine-learning-engineer-at-picpay-3105831043?refId=f4BGnTjHnCft%2BKb871cm2g%3D%3D&trackingId=Ox3dcR97WM7FCJ%2Fyebu4aA%3D%3D&position=15&pageNum=0&trk=public_jobs_jserp-result_search-card', 'https://br.linkedin.com/jobs/view/cientista-de-dados-jr-823-at-intern-brazil-3102381800?refId=f4BGnTjHnCft%2BKb871cm2g%3D%3D&trackingId=yLMtERSaX8dwk9G15rajuQ%3D%3D&position=16&pageNum=0&trk=public_jobs_jserp-result_search-card', 'https://br.linkedin.com/jobs/view/cientista-de-dados-banco-de-talentos-at-ita%C3%BA-unibanco-2909002652?refId=f4BGnTjHnCft%2BKb871cm2g%3D%3D&trackingId=c4EjdAFTt5PJwcFydfS0yw%3D%3D&position=17&pageNum=0&trk=public_jobs_jserp-result_search-card', 'https://br.linkedin.com/jobs/view/est%C3%A1gio-de-machine-learning-at-a3data-3096671330?refId=f4BGnTjHnCft%2BKb871cm2g%3D%3D&trackingId=vhxeNzQb8IHXQQJMguARXA%3D%3D&position=18&pageNum=0&trk=public_jobs_jserp-result_search-card', 'https://br.linkedin.com/jobs/view/raccoon-monks-est%C3%A1gio-data-science-at-raccoon-marketing-digital-3091036943?refId=f4BGnTjHnCft%2BKb871cm2g%3D%3D&trackingId=SR%2Facq2rM%2F8O5plT4tGXyw%3D%3D&position=19&pageNum=0&trk=public_jobs_jserp-result_search-card', 'https://br.linkedin.com/jobs/view/est%C3%A1gio-para-ci%C3%AAncia-de-dados-at-brlink-3116505943?refId=f4BGnTjHnCft%2BKb871cm2g%3D%3D&trackingId=b8q28zvUhrBD8c0ekUPwOg%3D%3D&position=20&pageNum=0&trk=public_jobs_jserp-result_search-card', 'https://br.linkedin.com/jobs/view/est%C3%A1gio-em-an%C3%A1lise-de-dados-at-quero-educa%C3%A7%C3%A3o-3140741282?refId=f4BGnTjHnCft%2BKb871cm2g%3D%3D&trackingId=%2Bjolu8AyBzKwX8NPuibSsw%3D%3D&position=21&pageNum=0&trk=public_jobs_jserp-result_search-card', 'https://br.linkedin.com/jobs/view/analista-ciencia-de-dados-jr-at-edenred-3139136483?refId=f4BGnTjHnCft%2BKb871cm2g%3D%3D&trackingId=Td7bVHLivGNQZsdmrdlzUw%3D%3D&position=22&pageNum=0&trk=public_jobs_jserp-result_search-card', 'https://br.linkedin.com/jobs/view/diversidade-inclus%C3%A3o-da-comunidade-negra-at-nubank-3109880969?refId=f4BGnTjHnCft%2BKb871cm2g%3D%3D&trackingId=UOCW%2BLViNXlm3yhr2MRqOg%3D%3D&position=23&pageNum=0&trk=public_jobs_jserp-result_search-card', 'https://br.linkedin.com/jobs/view/pessoa-cientista-de-dados-at-zup-innovation-3129910736?refId=f4BGnTjHnCft%2BKb871cm2g%3D%3D&trackingId=ewxOT2Ye%2B4bfgWN5asxeeg%3D%3D&position=24&pageNum=0&trk=public_jobs_jserp-result_search-card', 'https://br.linkedin.com/jobs/view/ci%C3%AAncia-de-dados-especialista-at-banco-modal-3060703491?refId=f4BGnTjHnCft%2BKb871cm2g%3D%3D&trackingId=XJ0kyvsWS4pPJTCe2bi0ZQ%3D%3D&position=25&pageNum=0&trk=public_jobs_jserp-result_search-card']\n"
     ]
    }
   ],
   "source": [
    "import requests\n",
    "from scrapy import Selector\n",
    "import re\n",
    "\n",
    "#getting html from a ulr\n",
    "url_linkedin = \"https://www.linkedin.com/jobs/search/?distance=25.0&geoId=106057199&keywords=ci%C3%AAncia%20de%20dados\"\n",
    "url_linkedin2 = \"https://www.linkedin.com/jobs/search/?distance=25.0&geoId=106057199&keywords=ci%C3%AAncia%20de%20dados&start=5000\"\n",
    "html = requests.get( url_linkedin2 ).content\n",
    "\n",
    "#creating a file to search job descriptions\n",
    "with open('data/html_request.html', 'w') as f:\n",
    "    f.write(str(html))\n",
    "\n",
    "\n",
    "sel = Selector(text = html)\n",
    "#get the job details of only one job\n",
    "urls = sel.xpath('//a[@data-tracking-control-name=\"public_jobs_jserp-result_search-card\"]/@href').extract()\n",
    "\n",
    "total_results = sel.xpath('//code[@id=\"totalResults\"]/comment()').extract()\n",
    "total = int(re.findall(r'\\b\\d+\\b',total_results[0])[0])\n",
    "\n",
    "print( total,urls)"
   ]
  },
  {
   "cell_type": "code",
   "execution_count": 14,
   "metadata": {},
   "outputs": [
    {
     "name": "stdout",
     "output_type": "stream",
     "text": [
      "\n"
     ]
    },
    {
     "name": "stderr",
     "output_type": "stream",
     "text": [
      "[WDM] - ====== WebDriver manager ======\n",
      "[WDM] - Current google-chrome version is 103.0.5060\n",
      "[WDM] - Get LATEST chromedriver version for 103.0.5060 google-chrome\n",
      "[WDM] - Driver [C:\\Users\\User\\.wdm\\drivers\\chromedriver\\win32\\103.0.5060.53\\chromedriver.exe] found in cache\n",
      "C:\\Users\\User\\AppData\\Local\\Temp\\ipykernel_8588\\1618221639.py:16: DeprecationWarning: executable_path has been deprecated, please pass in a Service object\n",
      "  driver = webdriver.Chrome(ChromeDriverManager().install())\n"
     ]
    },
    {
     "name": "stdout",
     "output_type": "stream",
     "text": [
      "['LinkedIn', '', 'Cientista de Dados Jr', 'Cientista de Dados - Full Remoto', 'Pessoa Engenheira de Dados | Big Data & AI', 'Estágio em Ciência de Dados', 'Cientista de Dados - Banco de Talentos', 'Cientista de Dados JR', 'Desenvolvedor Python', 'Estágio em Ciência de Dados', 'Cientista de Dados', 'Estagio em Data Analytics', 'Analista de Dados Júnior', 'Estágio em Análise e Inteligência de Dados', 'Machine Learning Engineer', 'Machine Learning Engineer', 'Cientista de dados', 'CIENTISTA DE DADOS JR - 823', 'Cientista de Dados | Banco de Talentos', 'Cientista de Dados', 'Estágio de Machine Learning', '[RACCOON.MONKS] Estágio Data Science', 'Estágio para Ciência de Dados', 'Diversidade - Inclusão da Comunidade Negra', 'Data Science', 'Analista de dados (BI) Jr', 'Estágio em Análise de Dados', 'Cientista de Dados', 'Pessoa Cientista de Dados', 'Cientista de Dados | Tecnologia para Produtos Digitais', 'Cientista de dados', 'Estagiário em Ciência de Dados - Del Castilho/RJ', 'Cientista de Dados', 'Programa de Estágio Associates', 'Analista de Dados Júnior', 'Programa de Estágio Associates', 'Analista de Performance Jr (KPIs)', 'ENGENHEIRO DE MACHINE LEARNING JR', 'Cientista de Dados I', 'Estágio Analytics', 'Analista de Governança de Dados', 'Analista de Planejamento e Performance Jr. | Planejamento e Alocação', 'Analista de Gente e Cultura – (Ciência de dados)', 'Cientista de Dados (Remoto)', 'Especialista em Dados | CPD | CH | São Paulo | Vaga preferencialmente para profissionais negros(as)', 'Data Scientist II', 'DESENVOLVEDOR BACKEND PYTHON', 'Cientista de Dados', 'ENGENHEIRO (A) DE MACHINE LEARNING', 'Estágio em BI', 'Cientista de Dados (Remoto)', 'Especialista em Dados | CPD | CH | São Paulo | Vaga preferencialmente para profissionais negros(as)', 'Data Scientist II', 'DESENVOLVEDOR BACKEND PYTHON', 'Cientista de Dados', 'ENGENHEIRO (A) DE MACHINE LEARNING', 'Estágio em BI - Rio de Janeiro', 'Staff Data Scientist', 'Cientistas de Dados', 'Data Science Intern', 'Especialista Ciência de Dados', 'Assistente de Inteligência de Mercado II | VARIEDADES', 'Coordenador(a) de Dados', 'Analista de Governança de Dados JR', 'Estágio em TI - Analise e desenvolvimento de sistemas', 'Estágio Machine Learning', 'Pessoa Engenheira de Machine Learning', 'Cientista de Dados Sênior', 'Analytics Engineer - Full remoto', 'Data Science Manager', 'Assistente de Dados de Auditoria', 'Analista de Business Intelligence Sr.', 'Pessoa Cientista de Dados Sênior', 'Estágio em TI (Perfil 1)', 'Analista de Dados Pleno', 'Cientista de Dados I', 'Analista de Dados ETL', 'Pessoa Cientista de Dados Sênior', 'ESTÁGIO TALENTO - DATA SCIENCE', 'Coordenador de Data Science', 'Analista de Dados Pleno', 'Cientista de Dados Senior', 'ESTÁGIO EM DESENVOLVIMENTO', 'Cientista de Dados', 'Especialista em Data Science', 'Cientista de Dados', 'Cientista de Dados', 'Cientista de Dados - Del Castilho/RJ', 'Data Scientist Sênior na Quanto | Remoto', 'Pessoa Especialista de Dados', 'Analista de dados', 'Agente de Negócios Empresas (vagas em todo o Brasil) 🤝🏭', '💙 Pessoa Engenheira de Dados 💜🚀', 'Analista de Dados', 'Analista de Finanças I Foco em Analytics - Exclusiva para Pessoas com Deficiência', 'Analista de Dados', 'Analista de Dados Pleno | Squad Dados', 'DESENVOLVEDOR BACKEND PYTHON JR/PL', 'Estágio em Monitoramento Digital e Análise de Dados', 'Estágio na área de Testes e Certificações em Meios de Pagamento', 'Analista de Estratégia de Dados III', 'CIENTISTA DE DADOS', 'Estágio na área de Controle e Automação P&D (Software)', 'Estagiário de Desenvolvimento', 'Analista de Dados PL', 'Analista de Business Intelligence III', 'Analista de Prevenção a Fraudes - Sênior', 'CIENTISTA DE DADOS', 'Cientista de Dados', 'Analista de Dados SR', 'Pessoa Desenvolvedora Júnior', '[Minsait] Cientista de Dados Sênior', 'Head de Ciência de Dados e Analytics', 'Ministério de Minas e Energia - Estágio em Ciência/Engenharia da computação e Sistemas de informação', 'Engenheiro de dados', 'Analista de BI e Digital Analytics - CANAIS', 'Pessoa Engenheira Especialista de Machine Learning', 'Estagiário Monitor', 'Analista de Dados SR', 'Pessoa Desenvolvedora Júnior', '[Minsait] Cientista de Dados Sênior', 'Head de Ciência de Dados e Analytics', 'Ministério de Minas e Energia - Estágio em Ciência/Engenharia da computação e Sistemas de informação', 'Engenheiro de dados', 'Analista de BI e Digital Analytics - CANAIS', 'Pessoa Engenheira Especialista de Machine Learning', 'Estagiário Monitor', 'Analista de BI - Junior', 'Ciência de Dados (Otimização e Prescriptive Analytics)', 'Pessoa Engenheira de Dados SR', 'Machine Learning Engineer Sênior - Full remoto', 'Você tem interesse em ingressar na área de Engenharia de dados ou Ciência de dados? Clique aqui =)', 'CIENTISTA DE DADOS PLENO', 'Programa de Estágio Tech - Speed', 'Cientista de Dados', 'Cientista de Dados IV', 'DATA SCIENTIST III', 'Oportunidades de Estágio', 'Banco de Talentos | Hurb', 'Analista de Suporte Protheus Pleno', 'Banco de Talentos | Cientista de Dados', 'Analista de Dados ( Business Inteligence )', 'Analista de BI Sênior | Natura&Co Pay', 'Pessoa Especialista de Dados', 'Analista de dados sênior', 'Analista de Projetos/UX', 'Cientista de Dados Pleno', 'CIENTISTA DE DADOS', 'Estágio em Produtos Analíticos', 'Data Scientist Mid/Senior', 'Analista de Dados BI Pleno', 'Analista de Dados - Data Analytics', 'Data Scientist', 'Analista de dados sênior', 'Data Science Analyst', 'Coordenador(a) Engenharia de Dados', 'Pessoa Cientista de Dados Senior', 'Analista de Dados Jr.(Informações Gerenciais/MIS)', 'Data Scientist', 'Engenheiro de Dados', 'Estagiário - Ciência de Dados / Estatística', 'Cientista de Dados - Corporativo', 'Pessoa Engenheira de Dados | Youcom', 'Cientista de Dados', 'Product Owner (Dados) | Advertising', 'Engenheiro de Machine Learning Sênior', 'Data Science Analyst', 'Coordenador(a) Engenharia de Dados', 'Pessoa Cientista de Dados Senior', 'Analista de Dados Jr.(Informações Gerenciais/MIS)', 'Data Scientist', 'Engenheiro de Dados', 'Estagiário - Ciência de Dados / Estatística', 'Cientista de Dados - Corporativo', 'Pessoa Engenheira de Dados | Youcom', 'Cientista de Dados', 'Product Owner (Dados) | Advertising', 'Engenheiro de Machine Learning Sênior', 'Especialista Cientista de Dados', '[CONSTRUCAP] Analista de Dados', 'Cientista de Dados – DialogFlow (Sênior e Especialista)', 'ANALISTA DE INTELIGÊNCIA DE DADOS PL - EQ RISCOS ATUARIAIS', 'TRAINEE DE BI', 'Pessoa Engenheira de Dados | Youcom', 'Pessoa Especialista em Data Science', 'Analista de Dados Sênior | Squad Dados', 'Estagiário(a) Back-end ✨🚀', 'Analista de Business Intelligence Pleno', 'Especialista II em Ciência de Dados', 'Analista de Dados', 'Estagiário de Desenvolvimento de Software (Backend)', 'ANALISTA DE DADOS SÊNIOR', 'CIENTISTA DADOS I', 'Analista de Dados', 'Coordenador de Ciência de Dados e Analytics SR', 'Profissional de Ciência de Dados e Analytics', 'Junior Java Developer Bootcamp', 'Analista de Dados', 'Analista BI (Presencial)', 'Pessoa Engenheira de Dados / BI', 'Consulting Analyst - TI', 'Cientista de Dados Senior', 'Head de Tecnologia', 'Analista de Dados', 'Analista de Dados', 'ANALISTA DE DADOS | ETL PLENO', 'Não encontrou uma vaga? Deixe o seu CV aqui ;)', 'Estágio Análise e Desenvolvimento - Ribeirão Preto', 'Data Scientist - Banco de Talentos', 'ANALISTA DE DADOS | ENGENHEIRO DE DADOS (Remoto)', 'Machine Learning Engineer - BANCO DE TALENTOS', 'Analista de Inovação Digital Pl (Desenvolvedor(a) de Banco de Dados)', 'Analista de Planejamento Comercial Pleno ✍️', 'Engenheiro de dados', 'Analista de Planejamento Comercial Pleno ✍️', 'Engenheiro de dados', 'Machine Learning Engineer', 'Analista de Software Junior', 'Analista de Customer Experience (CX) - Sênior', 'Estágio em Desenvolvimento Outsystems', 'Analista de Dados Pleno - Riscos e Modelagens', 'Analista de Dados Pleno', 'Analista de Dados', 'Cientista de Dados', 'Data Product Manager', 'Analista de Produtividade da FV Júnior', 'Analista de BI - Analytics', 'Analista de Dados PL (Planejamento Comercial)', 'Analista Ciência de Dados e Analytics Pleno', 'Pessoa Cientista de Dados Sênior', 'Estágio Full Stack', 'ESTAGIARIO DE CIENCIA DE DADOS', 'Estagiário de Desenvolvimento de Software (Backend)', 'Estágio em Tecnologia da Informação', 'Pessoa Desenvolvedora Java Junior', 'Analytics Engineer', 'Analista de Ciência de Dados Sr. (São Paulo-SP)', 'Cientista de Dados', 'Coordenador de Dados', 'Cientista de Dados Pleno ✨🚀', 'ARQUITETO DE DADOS', 'Coordenador de Engenharia de Dados', 'Analista de Dados PL (Planejamento Comercial)', 'Estagiário de Programação -', 'Analista de Dados Senior', 'Analista de banco de dados', 'Arquiteto de Governança de Dados', 'COORDENADOR DE ADM. PESSOAL - MATRIZ', 'Estágio em Pesquisa e Desenvolvimento', 'Cientista de Dados Pleno', 'Engenheiro(a) de Dados', 'Estágio em Crédito - ARX Investimentos', 'Machine Learning Engineer', 'Analista De Dados - Energia Elétrica', 'PEBMED | Analista de Dados Senior', 'Analista de Performance Jr (KPIs)', 'Estagiário(a) de Tecnologia - MIS', 'Analista de Projetos Sr. - Tecnologia', 'Analista de Riscos Operacional de Infraestrutura de Tecnologia - Sênior', 'Estagiário de TI 🎓💻', 'Analista de Inteligência Comercial Pleno', 'Especialista de Produto Criptoativos e Criptomoedas - Custódia', 'Analista de Modelagem - Sênior', 'Engenheiro de Dados', 'Engenheiro de Dados', 'Analista de Governança da Informação', 'Engenheiro(a) de Dados - IT Data Analytics', 'Accenture Academy 2022', 'Analista Ciência de Dados e Analytics Sênior', 'ESTAGIÁRIO - CONTROLADORIA/PROJETOS', 'Analista de Dados', 'Analista de Segurança da Informação (CSIRT) - Banco de Talentos', 'Cientista da Dados', 'Assistente de Atendimento - Suporte Técnico', 'Estágio - Auditoria IT', 'Analista de dados sênior', 'Pessoa Engenheira de Dados PL', 'Cientista de Dados Sênior', 'Analista de Prevenção à Fraudes Pleno (Canais Digitais)', 'Analista de dados pl energia elétrica', 'Analista de Dados - BI', 'Analista de Pessoas - Sênior', 'Especialista de People Analytics', 'Analista / Desenvolvedor SQL', 'Analista de Dados PL (Planejamento Comercial)', 'Estagiário de Programação -', 'Analista de Dados Senior', 'Analista de banco de dados', 'Arquiteto de Governança de Dados', 'COORDENADOR DE ADM. PESSOAL - MATRIZ', 'Estágio em Pesquisa e Desenvolvimento', 'Cientista de Dados Pleno', 'Engenheiro(a) de Dados', 'Estágio em Crédito - ARX Investimentos', 'Machine Learning Engineer', 'Analista De Dados - Energia Elétrica', 'PEBMED | Analista de Dados Senior', 'Analista de Performance Jr (KPIs)', 'Estagiário(a) de Tecnologia - MIS', 'Analista de Projetos Sr. - Tecnologia', 'Analista de Riscos Operacional de Infraestrutura de Tecnologia - Sênior', 'Analista de Tecnologia Farmacêutica Pleno', 'Data Analyst', 'Estagiário de TI 🎓💻', 'Analista de Inteligência Comercial Pleno', 'Especialista de Produto Criptoativos e Criptomoedas - Custódia', 'Analista de Modelagem - Sênior', 'Analista de Pessoas - Sênior', 'Especialista de People Analytics', 'Analista / Desenvolvedor SQL', 'Analista de Performance Corporativa', 'Analista de Inteligência de Mercado', 'ENGENHEIRO(A) DE DADOS JR/PL (REMOTO)', 'Analista de Dados Pl', 'Estágio em Sistemas', 'Analista Digital Business Analytics', 'Pessoa Cientista de Dados Sênior', 'Cloud Data Internship (Estágio)', 'JEITTO | ANALISTA DE QUALITY ASSURANCE JÚNIOR (CLT)', 'Assistente Modelagem de Risco (FSI) – São Paulo', 'DBA (ADMINISTRADOR DE BANCO DE DADOS)', 'Tecnologia - Quality Assurance (Estágio)', 'Machine Learning Engineer', 'Data Science Analyst Pl', 'Formados - Data Science RJ', 'Analista de Planejamento e Eficiência Sr.', 'ANALISTA DE DADOS SÊNIOR | ENGENHEIRO DE DADOS (Remoto)', 'ENGENHEIRO DE MACHINE LEARNING JR/PL (REMOTO)', '[Minsait] Cientista de Dados Sênior', 'Analista de Continuidade de Negócios - Sênior', '[Minsait] Cientista de Dados Sênior', 'Estágio em Sistemas', 'Analista Digital Business Analytics', 'Pessoa Cientista de Dados Sênior', 'Cloud Data Internship (Estágio)', 'JEITTO | ANALISTA DE QUALITY ASSURANCE JÚNIOR (CLT)', 'Assistente Modelagem de Risco (FSI) – São Paulo', 'DBA (ADMINISTRADOR DE BANCO DE DADOS)', 'Tecnologia - Quality Assurance (Estágio)', 'Machine Learning Engineer', 'Data Science Analyst Pl', 'Formados - Data Science RJ', 'Analista de Planejamento e Eficiência Sr.', 'ANALISTA DE DADOS SÊNIOR | ENGENHEIRO DE DADOS (Remoto)', 'ENGENHEIRO DE MACHINE LEARNING JR/PL (REMOTO)', '[Minsait] Cientista de Dados Sênior', 'Analista de Continuidade de Negócios - Sênior', '[Minsait] Cientista de Dados Sênior', 'Analista de Testes Qualidade - 100% Remoto', 'Estagiário (a) de Aquisição Digital PJ', 'Analista de TI', 'Estagiário de Sistemas', 'Tecnologia - Analista de QA Júnior (CLT)', 'Analista de Ciências de Dados Sênior - São Paulo, SP ou Curitiba, PR', 'Pessoa Engenheira de Dados Especialista', 'Cientista de Pesquisa Operacional | Digital Annealer', 'Banco de Talentos - Data Scientist', 'Estágio - Inteligência Competitiva', 'Estágio na área de Inteligência de Mercado | Santo André (SP)', 'Analista de Banco de Dados (DBA) - PL', 'Pessoa Cientista de Dados | Sênior', 'Cientista de Dados Pleno', 'Modelador Estatístico', 'Estagiário (a) de P&D - Inovação em projetos de tecnologia', 'Estagiário de Ciência da Computação', 'Pessoa analista em People Analytics', 'Formados - Data Science SP', 'Analista de Planejamento e Performance Pleno', 'Analista de Integração e Engenharia de Dados SR', 'Engenheiro de Dados', 'Analista de Banco de Dados (DBA) - PL', 'Pessoa Analista de Governança da Informação', 'Pessoa Engenheira Especialista de Machine Learning', 'Pessoa Engenheira de Dados Especialista', 'ESPECIALISTA EM MONITORAMENTO', 'Analista de Políticas de Crédito Sênior - Crédito PF', 'Engenheiro de Dados', 'Analista de Dados', 'Analista People Analytics Sênior', 'MONITOR DE PROCESSOS - PD 6 MESES.', 'Engenheiro Machine Learning SR', 'ANALISTA DE BUSINESS INTELLIGENCE', 'Pessoa Engenheira de Dados SR', 'Analista de Sistemas III - Dados', 'Coordenador (a) Analytics I', 'Administrador de Dados', 'Analista de Sistemas PL', 'Cientista de Pesquisa Operacional | Digital Annealer', 'Analista de Planejamento Comercial Senior ✍️', 'Especialista de Modelos Estatístico', 'DIRETOR DE TECNOLOGIA (CTO)', 'Pessoa Analista de Serviços TI I - Cód. 3333 (segmento justiça)', 'Engenheiro de Qualidade de Software', 'ANALISTA DE BI', 'Pessoa Analista de Segurança da Informação Júnior - Remoto', 'ANALISTA DE GESTÃO DE DÉBITO JR', 'Coordenador (a) Analytics II', 'Consultor(a) de Seguros 🤝🏽☔ (vagas em todo o Brasil)', 'Gerente de Inovação Jr (Consumo) – Rio de Janeiro/RJ', 'SENIOR PYTHON DEVELOPER', 'Analista de Dados SR (DF | SP)', 'Desenvolvedor de Software PL (Machine Learning - NLP)', 'Gerente de Dados (1 vaga)', 'Analista de Data e Analytics Junior', 'Assistente de Processamento de Dados', 'Analista De Dados - Com Experiência Em Power BI;', 'Banco de Talentos | Pessoa Engenheira de Dados', 'Analista de Produtos SR', 'Analista de Business Intelligence', 'Estágio em TI', 'Analista de Processos', 'Estagiário de TI', '[Escola Sá Pereira] - Estágio Psicologia', 'Analista de Redes | Telecom', 'Desenvolvedora / Desenvolvedor Júnior de Mobile Android para Bootcamp de Tecnologia', 'Data Engineer Jr. (Remote)', 'Analista de Sistemas Júnior', 'Engenheiro(a) de Dados', 'Analista de BI', 'Data Scientist Master', 'Analista de Orçamento - Extensivo à PCDs', 'ANALISTA DE COMPLIANCE PLENO', 'Analista de Revenue | Growth Marketing & Experimentation', 'Estagiário em Gestão de Processos e Projetos', 'Trainee em Gestão de Processos e Projetos', 'Estágio de Transformação Digital', 'Data Analyst - Vendas', 'Analista de Sistemas PL', 'Analista de Atração e Seleção - Varejo (Temporário) 💡🚀', 'Estágio TI', 'ASSISTENTE MODELAGEM DE RISCO (FSI) – SÃO PAULO', 'Estágio em e-Commerce', 'Sympla | Engenharia de Dados', 'Consultor/PO de Advanced Analytics - Growth Sênior', 'Analista de TI/Dados - Temporário', 'ESPECIALISTA DE CIÊNCIA DE DADOS', 'Analista de Dados OLAP', 'Estagiário TI Desenvolvimento | Holambra - SP', 'Pessoa Engenheira de Dados - Pleno [L2DE]', 'Analista de Desenvolvimento Sistemas Pleno', 'Especialista Inteligência de Risco', 'Analista de BI', 'Estágio em Desenvolvimento (TI)', 'Engenheiro de Dados', 'Analista de Business Intelligence', 'Auditor Sr', 'Data Science - Consultor Otimização', 'Engenheiro(a) de Dados', 'Analista de BI', 'Data Scientist Master', 'Analista de Orçamento - Extensivo à PCDs', 'ANALISTA DE COMPLIANCE PLENO', 'Analista de Revenue | Growth Marketing & Experimentation', 'Analista de infraestrutura DBA', 'Estagiário em Gestão de Processos e Projetos', 'Cientista de Dados Sênior', 'Administrador de Banco de Dados - Pleno', 'Tech Lead - Engenheiro(a) de software', 'Gerente de Negócios - Empresas- 🤝🏭', 'Estágio em Operações Asset Management (vaga exclusiva)', 'Analista de Planejamento de Cobrança - Pleno', 'Analista de Business Intelligence', 'Estagiário TI', 'Pessoa Engenheira de Dados SR', 'Analista de Negócios CRM Sr Latam', 'Analista de Planejamento Comercial Jr - Seeds (São Paulo - SP)', 'ANALISTA DE POWER BI 31-CAMBE', 'Analista de Prevenção à Fraudes Pleno (Auto)', 'Gerente de Relacionamento (Vagas em todo o Brasil) 🚀💬🤝🏽', 'Analista de Inovação Digital Pl (Desenvolvedor FullStack)', 'Assistente de Processamento de Dados', 'Especialista de Inteligência de Novos Negócios', 'Data Engineer - Consultor(a) Sênior', 'Data Science - Consultor Otimização', 'ESTAGIÁRIO TI', 'DESENVOLVEDOR PYTHON SÊNIOR', 'Gerente de People Analytics', 'Engenheiro de Dados', 'Analista de Dados e BI (Consultor de Telecom)', 'Analista de Planejamento Comercial Sênior - Inovações Digitais Personnalité 🚀💬🤝🏽', 'Consultor Negócios e Processos', 'Engenheiro(a) de Software (C#) - IT Electronic Trading', 'Estágio | TI - Infraestrutura', 'Analista de Inteligência de Mercado Sênior', 'Tech Talentos RECODE', 'Analista de Projetos Google Workspace - Deployment Analyst (REMOTO)', 'Analista de Estratégia Prevenção a Fraude Sr.', 'Analista de Testes de Automação - Mobile', 'Analista de negócios', 'Desenvolvedor(a) de Dados Web', 'Engenheiro De Dados - HOME OFFICE', 'Analista de Ciência de Dados Sênior', 'Auxiliar de TI', 'Analista de Custumer Experience Pleno', 'Analista de Testes Automatizados Jr', 'Assistente de Tecnologia da Informação - (Atendimento N1)', 'Engenheiro De Dados - HOME OFFICE', 'Analista de Ciência de Dados Sênior', 'Auxiliar de TI', 'Analista de Custumer Experience Pleno', 'Analista de Testes Automatizados Jr', 'Assistente de Tecnologia da Informação - (Atendimento N1)', 'Engenheiro de Dados (3 vagas Remoto)', 'Data Science - Consultor Preditivo', 'Analytics Engineer', 'Analista de BI Pleno (Dataviz)', 'Desenvolvedor Junior', 'Analista de Dados e BI Sr', 'Analista de Crédito e de Seguros Garantia Pleno', 'Gerente de Relacionamento - Itaú Personnalité 🤝🏽🚀', 'Analista de Marketing - Sênior', 'Analista de Negócios de Tecnologia da Informação - Senior', 'Pessoa Analista de Testes', 'BANCO DE TALENTOS - Tech Lead', 'Arquiteto de Negócios - estratégia de navegação', 'ANALISTA DE TI', 'INFORMATION ANALYST', 'ANALISTA DE DADOS SÊNIOR (PCD)', 'Especialista em Governança de TI (Portfólio de Projetos)', 'Analista de Controladoria', 'Desenvolvedor Back- End JAVA Jr', 'Analista de Ciência de Dados Sênior', 'Auxiliar de TI', 'Analista de Custumer Experience Pleno', 'Analista de Testes Automatizados Jr', 'Assistente de Tecnologia da Informação - (Atendimento N1)', 'Engenheiro de Dados (3 vagas Remoto)', 'Data Science - Consultor Preditivo', 'Analytics Engineer', 'Analista de Governança de TI', 'Analista de BI Pleno (Dataviz)', 'Desenvolvedor Junior', 'Analista de Dados e BI Sr', 'Analista de Crédito e de Seguros Garantia Pleno', 'Gerente de Relacionamento - Itaú Personnalité 🤝🏽🚀', 'Analista de Marketing - Sênior', 'Analista de Negócios de Tecnologia da Informação - Senior', 'Pessoa Analista de Testes', 'BANCO DE TALENTOS - Tech Lead', 'Arquiteto de Negócios - estratégia de navegação', 'ANALISTA DE TI', 'INFORMATION ANALYST', 'ANALISTA DE DADOS SÊNIOR (PCD)', 'Especialista em Governança de TI (Portfólio de Projetos)', 'Analista de Controladoria', 'Desenvolvedor Back- End JAVA Jr', 'Estágio - Planejamento Estratégico', 'Analista de BI', 'Diretor de Transformação Digital', 'Tecnologia da Informação', 'Coordenador Digital Business Analytics', 'Especialista Inteligência de Risco', 'Analista de Testes/QA', 'Analista de Gestão de Ativos - Venda de Imóveis', 'Engenheiro de Dados (SQL)', 'Analista de CRM', 'Diversidade - Inclusão de Pessoas com Deficiência', 'ANALISTA DE SISTEMAS PL', 'Especialista de Dados', 'Analista de BI PL', 'Data Business Analyst Senior', 'Analista de Testes/QA', 'Analista de Sistemas Pl', 'Analista de Políticas de Crédito Sr.', 'Coordenador Data Science', 'Analista Business Intelligence SR', 'Especialista em Business Intelligence (BI)', 'Engenheiro de Dados', 'Analista Dados Tributários Sênior', 'Engenheiro de Dados Pleno', 'Coordenador de Planejamento Comercial', 'Analista de Soluções de BI - TI Pleno', 'Assistente Trade Marketing / Dados', 'Data Science - Consultor Preditivo', 'Research Scientist Senior', 'Pessoa Analista de TI JR', 'Estagiário de TI', 'Analista de Tecnologia da Informação', 'Analytics Engineer PL', 'ANALISTA DE TI (SÊNIOR) - Arquitetura de Projetos', '0122063 - Estágio TI', 'Estágio em Desenvolvimento de Mercado de Soja - Seeds (São Paulo- SP)', 'Analista de Recursos Humanos Sênior - People Analytics', 'Analista de implantação', 'Developer Python Pleno', 'Auditor (a) Júnior', 'Engenheiro de Dados Pleno', 'Estágio em Testes e Qualidade de Software', 'Team Lead de Integrações', 'Formados - Tecnologia RJ', 'Engenheiro de Dados Sr', 'Gerente de Infraestrutura de TI - Database', 'Engenheiro de Dados e Big Data Sênior', 'Gerente Geral - Itaú Personnalité 🤝🏽🚀', 'Analista de Soluções de BI - TI Pleno', 'Assistente Trade Marketing / Dados', 'Data Science - Consultor Preditivo', 'Research Scientist Senior', 'Pessoa Analista de TI JR', 'Estagiário de TI', 'Analista de Tecnologia da Informação', 'Analytics Engineer PL', 'Estágio em Customer Insights - Seeds (São Paulo- SP)', 'ANALISTA DE TI (SÊNIOR) - Arquitetura de Projetos', '0122063 - Estágio TI', 'Estágio em Desenvolvimento de Mercado de Soja - Seeds (São Paulo- SP)', 'Analista de Recursos Humanos Sênior - People Analytics', 'Analista de implantação', 'Developer Python Pleno', 'Auditor (a) Júnior', 'Engenheiro de Dados Pleno', 'Estágio em Testes e Qualidade de Software', 'Team Lead de Integrações', 'Formados - Tecnologia RJ', 'Engenheiro de Dados Sr', 'Engenheiro de Dados Sênior', 'ANALISTA BI PLENO', 'Analista de Negócios de Tecnologia da Informação - Senior', 'Analista de Soluções de BI - TI Pleno', 'Assistente Trade Marketing / Dados', 'Data Science - Consultor Preditivo', 'Research Scientist Senior', 'Pessoa Analista de TI JR', 'Estagiário de TI', 'Analista de Tecnologia da Informação', 'Analytics Engineer PL', 'Estágio em Customer Insights - Seeds (São Paulo- SP)', 'ANALISTA DE TI (SÊNIOR) - Arquitetura de Projetos', '0122063 - Estágio TI', 'Estágio em Desenvolvimento de Mercado de Soja - Seeds (São Paulo- SP)', 'Analista de Recursos Humanos Sênior - People Analytics', 'Analista de implantação', 'Developer Python Pleno', 'Auditor (a) Júnior', 'Engenheiro de Dados Pleno', 'Estágio em Testes e Qualidade de Software', 'Team Lead de Integrações', 'Formados - Tecnologia RJ', 'Engenheiro de Dados Sr', 'Gerente de Design - Comunidade de Cartões 💡🚀', 'Técnico de Laboratório - Júnior - materiais.', 'Cientista de Dados - Sênior', 'ANALISTA DE PROCESSOS - EXCLUSIVO PARA PROFISSIONAIS COM DEFICIÊNCIA', 'Especialista de Software', 'Auxiliar de desenvolvimento', 'Especialista em Governança de TI (Portfólio de Projetos)', 'Estágio Infraestrutura - Presencial e/ou Home Office', 'Analista de Infraestrutura JR', 'Data Engineer III', 'Analista de sistemas BI', 'Analista de Desenvolvimento C# - Sênior', 'Analista de Bi / Data Science em Indústria Automotiva', 'Especialista de Analytics', 'Analista de Risco', 'Gerente de Inovação Digital', 'Formados - Desenvolvedor(a) RPA Remoto', 'Estagiário de Negócio Milho - Seeds (São Paulo - SP)', 'Gerente de Business Intelligence', 'Auxiliar Administrativo Financeiro', 'Analista de Produtos Pleno - Supply Chain Finance', 'Engenheiro de software', 'Líder de Novos Negócios', 'Analista de Sistemas', 'Estágio - DevOps', 'Analista de Controle de Qualidade Pl', 'Desenvolvedor(a) de Software I JAVA - Junior/Pleno', 'Analista de sistemas', 'Fraud Prevention Analyst III', 'Docente de Ciência da Computação', 'ENGENHEIRO DE DADOS PLENO', 'Analista Curadores de ChatBots - TELETRABALHO', 'Analista Jr - Gestão de Dashboars - Exclusiva PCD', 'ANALISTA NEGÓCIOS SÊNIOR – VALE VENTURES – CORPORATIVO', 'Especialista em Engenharia de Dados', 'Analista de Desenvolvimento Pleno - C#', 'BI Analista Tableau / Alteryx', 'Quality Analyst', 'Analista de BI', 'RP 068 ANALISTA DE INFORMAÇÕES', 'Estágio em Tecnologia da Informação (TI)', 'Gerente de Design - Comunidade de Cartões 💡🚀', 'Técnico de Laboratório - Júnior - materiais.', 'Cientista de Dados - Sênior', 'ANALISTA DE PROCESSOS - EXCLUSIVO PARA PROFISSIONAIS COM DEFICIÊNCIA', 'Especialista de Software', 'Auxiliar de desenvolvimento', 'Especialista em Governança de TI (Portfólio de Projetos)', 'Analista BI', 'Desenvolvedor C# Júnior / Pleno', '6224 - Consultor de Governança de Dados', 'Líder Técnico Protheus', 'Supply Finance Analyst (Crop)', 'Analista DBA PL', 'Analista de Inteligência Educacional Pl.', 'Especialista em TI', 'Jovem Aprendiz Administrativo Botafogo/RJ', 'Customer Success Support Analyst Jr.', 'Itaú Design Team 🧡', 'ANALISTA DE SEGURANÇA DA INFORMAÇÃO (AppSec)', 'Engenheiro de Dados Sênior', 'Analista de Projetos Google Workspace - Deployment Analyst (REMOTO)', 'EstÃ¡gio em Engenharia de Software - Set/2022', 'Desenvolvedora / Desenvolvedor Júnior de Mobile iOS para Bootcamp de Tecnologia', 'Assistente de Customer Success', 'Analista de Sistemas', 'Analista De Dados Sênior - Diadema', 'Especialista técnico em AI/Big Data (SOL_DART)', 'ANALISTA DE TESTES JÚNIOR', 'Analista de Data Science PL', 'Analista de BI', 'Data Product Manager - Remoto', 'Estágio em TI - Desenvolvimento de Software', 'Analista de suporte - Contact Center', 'Coordenador(a) de Sistemas BI/BIG DATA', 'Cientista de Dados Sênior (NJ) - Vaga Internacional', 'Engenheiro de Qualidade de Software Pl', 'Desenvolvedor de novos negócios', 'Analista de Projetos Google Workspace - Deployment Analyst (REMOTO)', 'Engenheiro de qualidade de software', 'Engenheiro de Desenvolvimento de Produto (Foco em IA para Sistemas Autônomos - Percepção e Decisão)', 'Desenvolvedor(a) Backend Pleno', 'Especialista de Crédito (Estratégias PJ) | REALIZE', 'Engenheiro de Dados', 'Enterprise Architect', 'Consultor (a) de Atendimento', 'Pesquisador(a) Desenvolvimento de Ensaios Resíduos Pleno - Sto Antonio de Posse/SP', 'Tech Lead de Dados', 'ANALISTA DE ESTRATÉGIA ANTIFRAUDE PL', 'Desenvolvedor BackEnd', 'Marketing Analytics Specialist', 'Diretor(a) Empreendedorismo e Digital', 'Gerente de Projetos', 'Gerente People Analytics', 'Diretor(a) Empreendedorismo e Digital', 'Gerente de Projetos', 'DESENVOLVEDOR PYTHON', 'Desenvolvedor Power BI', 'Analista de Atendimento Canais Digitais', 'Analista de Sistemas Júnior (SIM TECH)', '116 - Analista de Qualidade Tester [VEGA]', 'Gerente de Conquista - Empresas (vagas em todo o Brasil) 🤝🏭', 'Analista de Qualidade e Teste de Software (Localização: Brasil)', 'Gerente de Infraestrutura de TI. (Hands-on)', 'SUPERVISOR@ DE MANUFATURA JR - MedTech SJC.', 'Analista de Estratégias de Cobrança Senior', 'Assistente Recursos Humanos - SP', 'Analista de Logística Pleno', 'ANALISTA DE TI - BUSINESS INTELLIGENCE - SÃO LUÍS - MA', 'Junior Mobile Developer Bootcamp', 'Analista de TI', 'Analista de Redes e Comunicação de Dados - EXPRESSO CHAPECÓ', 'Analista de Remuneração e Benefícios Sr. - Rio de Janeiro', 'Analista de Infraestrutura de TI', 'Auxiliar Administrativo', 'Arquiteto de nuvem', 'Analista de Infraestrutura de TI', 'Auxiliar Administrativo', 'Arquiteto de nuvem', 'Analista de Testes Pleno / Sênior', 'Engenheiro de Suporte Técnico', 'Analista de TI III- Suporte de Sistemas', 'Analista de Sistemas ERP', 'QUALITY CONTROL TECHNICIAN I.', 'Analytics Engineer PL', 'Analista de Projetos Google Workspace - Deployment Analyst (REMOTO)', 'Analista de Projetos Google Workspace - Deployment Analyst (REMOTO)', 'Estágio | TI | VALE', 'Pessoa Estagiária em ASG (Sustentabilidade) - Centro (Fortaleza/CE)', 'Analista de Sistemas Pl', 'Líder técnico', 'Coordenador de Performance', 'Analista de Privacidade de Dados', 'ANALISTA DE BI PLENO', 'Cientista de Dados Sênior (BFS) - Vaga Internacional', 'Analista de Preços Sênior', 'Assistente de BI', 'Engenheiro de Machine Learning Sênior', 'COORDENADOR SUPORTE DE TI', 'Analista de Monitoração', 'Especialista de Software (Plataforma de Dados)', 'Estagiário(a) - Suporte N1', 'Inspetor de Medidas Tridimensional (Prazo Determinado)', 'Technical Writer', 'Estágio Comercial – Foco em Sustentabilidade e Energias Renováveis', 'Engenheira de Dados SR (Vaga afirmativa para mulheres)', 'Analista de Sistema PL', 'Analista de Implantação - (Remota)', 'Banco de Talentos - Analista de Desenvolvimento ERP', 'Executivo de Vendas - Robótica SCR | São Paulo', 'Analista Validação Sistemas Jr. (Vaga Temporária) - Itapira/SP.', 'Analista Processos Júnior - Jundiaí/SP', 'Analista de Sistemas Sr', 'Coordenador de Atendimento Digital / CXM', 'DBA - SQL Server', 'Gerente de Data Science', 'Desenvolvedor Outsystems Jr', 'Analista de Requisitos Pleno', 'DESENVOLVEDOR JR', 'Consultor (a) M&A IT', 'Analista De Infraestrutura - Sorocaba', 'ANALISTA DE DADOS C/ FOCO EM VENDAS - Comercial', 'Estágio Administrativo (Conformidade e Diligência de Terceiros)', 'Estagiário de Qualidade', 'Product Management', 'Estágio em Marketing - Consumer Insights (Visão/Comportamento do Consumidor)', 'Analista de Sistema Protheus - Piracicaba', 'Gerente de BI e Data Science', 'Analista de Suporte Sistema ERP', 'ENGENHEIRO DE DADOS', 'Analista Desenvolvedor Full Stack', 'Tech Lead ', 'Desenvolvedor Full Stack', 'ANALISTA DE PRÉ-VENDAS DE SEGURANÇA DA INFORMAÇÃO', 'Analista Validação Sistemas Jr. (Vaga Temporária) - Itapira/SP.', 'Estágio em Marketing - Pain Topicals & Profits', 'JBS Couros | Analista de Sistemas Web Pleno', 'Jr Information Security Analyst', 'Banco de Talentos - Data Engineer', 'Estágio Comercial – Foco em Sustentabilidade e Energias Renováveis', 'Analista de CRM III - International Business - Inglês Avançado', 'Analista de sistemas - BI', 'ANALISTA DE INFRAESTRUTURA', 'Analista De Planejamento - Presencial - Barra Funda', 'Application Developer', 'ESTÁGIO EM SUPORTE TÉCNICO', 'Desenvolvedor', 'Analista de Suporte (Sistemas/ TI)', 'ANALISTA DE MONITORAMENTO JÚNIOR (12X36)', 'COORDENADOR SUPORTE DE TI', 'Analista de Suporte/Monitoração', 'Pessoa Especialista em Observabilidade', 'Especialista em telecomunicação', '4047 - DESENVOLVEDOR JR - SP', 'Analista de Faturamento', 'Analista de Implantação Pleno', 'TRAINEE DEV MOBILE', 'Full-Stack Developer', 'Analista de Sistemas Pleno', 'Analista de Sistema PL', 'ANALISTA DE SISTEMA JR', 'Estágio em Estratégia LATAM -Seeds - São Paulo/ SP', 'Consultor(a) de Comunicação (Performance)', 'Tech Lead', 'Engenheiro de Dados SR', 'Pessoa Coordenadora de Suporte Técnico de TI', 'Engenheiro (a) de Soluções para Setor Público', 'Desenvolvedor Back-End (Python Flask)', 'Analista de Capacidade e Performance SR', 'Analista de Desenvolvimento Pleno - Java', 'UX/UI Designer - 💡🚀', 'Analista de Infraestrutura - Cloud', 'Estágio em Engenharia', 'Desenvolvedor Outsystems Jr', 'Analista de Requisitos Pleno', 'DESENVOLVEDOR JR', 'Consultor (a) M&A IT', 'Analista De Infraestrutura - Sorocaba', 'Estágio Administrativo (Conformidade e Diligência de Terceiros)', 'Estagiário de Qualidade', 'Assistente Administrativo', 'Executivo de Vendas - Imagem | São Paulo', 'Analista Modelagem e Estatística Sênior', 'Analista de sistemas da informação IAM', 'Almoxarife II', 'Sales Engineer - Data Engineering', 'Pessoa Analista de Negócios Sr', 'Analista de Capacidade e Performance SR.', 'Especialista em Data Analytics (Cloud) - IT Infrastructure', 'Coordenador de TI - CANAIS DIGITAIS', 'Analista de Contas a Pagar - Junior/Pleno', 'Engenheiro de Dados Sênior', 'ESPECIALISTA DE ASSUNTOS REGULATÓRIOS I', 'Engenheiro de Produção', 'Analista de Negócios Pleno (Saúde)', 'Senior Machine Learning Engineer | Motor de Crédito', '104 - Analista de Qualidade Tester [VEGA]', 'ENGENHEIRO(A) DE DADOS SÊNIOR (REMOTO)', 'ENGENHEIRO(A) DE DADOS SÊNIOR (REMOTO)', 'Desenvolvedor de Software Full Stack', 'Desenvolvedor', 'Analista de Dados - PCD', 'Consultor de Projetos CHC I', 'DATA ENG (ESP I)', 'Estágiário de Desenvolvimento em Java', 'Analista de Mídia Paga (Ads)', 'Desenvolvimento de Software', 'Desenvolvedor back end (Java)', 'Analista de Sistemas - Jundiaí/SP', 'Estágio Implantação de Sistemas e Gerenciamento de Projetos', 'Líder de Processos (Trait Assessment) - Seeds - Uberlândia/MG', 'Assistente de Recursos Humanos Generalista', 'Engenheira de Dados SR (Vaga afirmativa para mulheres)', 'Pessoa Analista ADM Comercial', 'ANALISTA DE SEGURANÇA DA INFORMAÇÃO I', 'Líder Técnica de Seller Invoice para Tecnologia', 'Software Engineer', 'Gerente CIEX Data Science - São Paulo - SP', 'Analista de Segurança da Informação Pl e Sr - Monitoramento', 'Analista Pleno de People Systems - Atração e Seleção', 'Desenvolvedor - PL/SQL', 'Desenvolvedora / Desenvolvedor Tecnológico - Pessoas com Deficiência - Pré-IT Bootcamp', 'Analista de TI', 'ANALISTA DE SUPORTE AO NEGOCIO PLENO - VAGA EXCLUSIVA PCD.', 'Data Engineer Pleno', 'Lead Business System Analyst - Sênior', 'Analista de Infraestrutura - Containers', 'Estágio em Desenvolvimento Web', 'Analista Desenvolvedor Pleno', 'Analista Desenvolvedor', 'Estagiário - Engenharia de Software / Análise de Desenvolvimento', 'ENGENHEIRO DE SOFTWARE FULL STACK', 'Analista de sistemas sênior', 'Estágio em TI- SUPORTE', 'Engenheiro de Dados Senior | AWS/Hadoop', 'Pessoa Desenvolvedora de Jogos III | Tapps Games', 'Analista de Performance Jr (KPIs)', 'Designer - Master', 'Engenheiro de Dados', 'Product Owner com conhecimento em Alteryx - Sênior', 'Desenvolvedor Back-End - Pleno', 'Analista de Testes de Automação - Mobile', 'Analista Desenvolvedor (a) - Java (júnior)', 'Analista de sistemas da informação IAM', 'Analista Desenvolvedor - BI', 'Analista de Prevenção à Fraudes Pleno (Auto)', 'People | Global People Analytics Specialist', 'People | Global People Analytics Specialist', 'Engenheira/ Engenheiro de Processos -Seeds (Ituiutaba/MG)', 'Analista de Dados SR', 'Especialista de Sistemas - Operações e Vendas', 'Analista de Qualidade de Software (SQA)', 'Coordenador de desenvolvimento', 'Analista de BI Pleno', 'Customer Success Analyst', 'POA- Consultor SRCR Cyber Assessment', 'Analista de Suporte Pleno', 'Analista de Prevenção a Fraudes - Sênior', 'Pessoa Cientista de Dados', 'Analista de Importação', 'Assistente de Suporte - ERP', 'Desenvolvedor Java PLENO', 'Designer - Master', 'Analista de Dados Pleno', '107 - Analista de Geoprocessamento Júnior [VEGA]', 'CIENTISTA DADOS II', 'Coordenador (a) Analytics I', 'Application Architect-Custom Development', 'PESSOA DESENVOLVEDORA FULLSTACK (JAVA/ANGULAR)', 'Gerente de Relacionamento - Goiânia 🤝', 'Analista de Suporte - N1', 'LinkedIn']\n"
     ]
    },
    {
     "data": {
      "text/plain": [
       "'html = driver.page_source\\n\\nwith open(\\'data/html_request.html\\', \\'w\\',encoding=\"utf-8\") as f:\\n    f.write(str(html))\\n'"
      ]
     },
     "execution_count": 14,
     "metadata": {},
     "output_type": "execute_result"
    }
   ],
   "source": [
    "\n",
    "\n",
    "import time\n",
    "\n",
    "from selenium import webdriver\n",
    "from selenium.webdriver.chrome.options import Options\n",
    "\n",
    "from selenium import webdriver\n",
    "from webdriver_manager.chrome import ChromeDriverManager\n",
    "from selenium.webdriver.common.by import By\n",
    "\n",
    "SCROLL_PAUSE_TIME = 1\n",
    "url= \"https://www.linkedin.com/jobs/search/?keywords=Ci%C3%AAncia%20De%20Dados&location=Brasil&locationId=&geoId=106057199&f_TPR=&position=1&pageNum=0\"\n",
    "\n",
    "\n",
    "options = Options()\n",
    "options.headless = True\n",
    "driver = webdriver.Chrome(ChromeDriverManager().install())\n",
    "\n",
    "\n",
    "driver.get(url)\n",
    "\n",
    "time.sleep(SCROLL_PAUSE_TIME)\n",
    "button =  driver.find_elements(By.XPATH,'//button[@class=\"cta-modal__dismiss-btn absolute top-2 right-2 hover:cursor-pointer focus:outline focus:outline-2 focus:outline-color-action\"]')\n",
    "button[0].click()\n",
    "\n",
    "\n",
    "\n",
    "start_time = time.time()\n",
    "# Get scroll height\n",
    "last_height = driver.execute_script(\"return document.body.scrollHeight\")\n",
    "flag = 0\n",
    "while (flag == 0):\n",
    "    # Scroll down to bottom\n",
    "    driver.execute_script(\"window.scrollTo(0, 0);\")\n",
    "    driver.execute_script(\"window.scrollTo(0, document.body.scrollHeight);\")\n",
    "\n",
    "    # Wait to load page\n",
    "    time.sleep(SCROLL_PAUSE_TIME)\n",
    "\n",
    "    # Calculate new scroll height and compare with last scroll height\n",
    "    new_height = driver.execute_script(\"return document.body.scrollHeight\")\n",
    "    if new_height == last_height:\n",
    "        time.sleep(SCROLL_PAUSE_TIME)\n",
    "        button =  driver.find_elements(By.XPATH,'//button[@class=\"infinite-scroller__show-more-button infinite-scroller__show-more-button--visible\"]')\n",
    "        if(button):\n",
    "            button[0].click()\n",
    "        else:\n",
    "            flag = 1\n",
    "\n",
    "    time_spent = time.time() - start_time  \n",
    "\n",
    "    if time_spent > 180:\n",
    "        flag = 1   \n",
    "    last_height = new_height\n",
    "\n",
    "\n",
    "\"\"\"elements = driver.find_elements(By.XPATH,'//a[@class=\"base-card__full-link absolute top-0 right-0 bottom-0 left-0 p-0 z-[2]\"]')\n",
    "\n",
    "urls = [e.get_attribute(\"href\") for e in elements]\n",
    "\n",
    "\n",
    "elements2 = driver.find_elements(By.XPATH,'//a[@data-tracking-control-name=\"public_jobs_jserp-result_search-card\"]')\n",
    "urls.append(e.get_attribute(\"href\") for e in elements2)\n",
    "print(len(urls))\"\"\"\n",
    "\n",
    "elements = driver.find_elements(By.XPATH,'//span[@class=\"sr-only\"]')\n",
    "job_titles = [e.text for e in elements]\n",
    "print(job_titles)\n",
    "\n",
    "\n",
    "\"\"\"html = driver.page_source\n",
    "\n",
    "with open('data/html_request.html', 'w',encoding=\"utf-8\") as f:\n",
    "    f.write(str(html))\n",
    "\"\"\"\n"
   ]
  },
  {
   "cell_type": "code",
   "execution_count": 22,
   "metadata": {},
   "outputs": [
    {
     "name": "stdout",
     "output_type": "stream",
     "text": [
      "442\n"
     ]
    }
   ],
   "source": [
    "data_science_terms = [\"cientista\",\"dado\",\"analista\",\"bi\",\"analytics\",\"data\",\"science\",\"ai\",\"big data\",\"machine learning\",\"scientist\"]\n",
    "\n",
    "data_science_job_titles = []\n",
    "\n",
    "for title in job_titles:\n",
    "    flag = 0\n",
    "    for term in data_science_terms:\n",
    "        if term in title.lower():\n",
    "            if flag == 0:\n",
    "                data_science_job_titles.append(title)\n",
    "                flag = 1\n",
    "\n",
    "print(len(set(data_science_job_titles)))\n",
    "\n"
   ]
  },
  {
   "cell_type": "code",
   "execution_count": 5,
   "metadata": {},
   "outputs": [
    {
     "name": "stdout",
     "output_type": "stream",
     "text": [
      "1656437386.2000346\n",
      "0.5860228538513184\n"
     ]
    }
   ],
   "source": [
    "import requests\n",
    "import time\n",
    "from scrapy import Selector\n",
    "\n",
    "t0 = time.time()\n",
    "print(t0)\n",
    "#getting html from a ulr\n",
    "url = \"https://www.linkedin.com\" \n",
    "html = requests.get( url ).content\n",
    "\n",
    "\n",
    "\n",
    "\n",
    "sel = Selector(text = html)\n",
    "#get the job details of only one job\n",
    "divs = sel.xpath('//div[@class=\"description__text description__text--rich\"]//text()').extract()\n",
    "print(time.time() - t0)"
   ]
  },
  {
   "cell_type": "code",
   "execution_count": 69,
   "metadata": {},
   "outputs": [],
   "source": [
    "#creating a file to search job descriptions\n",
    "with open('data/html_request.html', 'w') as f:\n",
    "    f.write(str(html))"
   ]
  },
  {
   "cell_type": "code",
   "execution_count": 1,
   "metadata": {},
   "outputs": [
    {
     "name": "stderr",
     "output_type": "stream",
     "text": [
      "2022-06-23 17:21:20 [scrapy.utils.log] INFO: Scrapy 2.6.1 started (bot: scrapybot)\n",
      "2022-06-23 17:21:20 [scrapy.utils.log] INFO: Versions: lxml 4.9.0.0, libxml2 2.9.12, cssselect 1.1.0, parsel 1.6.0, w3lib 1.22.0, Twisted 22.4.0, Python 3.10.5 (tags/v3.10.5:f377153, Jun  6 2022, 16:14:13) [MSC v.1929 64 bit (AMD64)], pyOpenSSL 22.0.0 (OpenSSL 3.0.3 3 May 2022), cryptography 37.0.2, Platform Windows-10-10.0.19044-SP0\n",
      "2022-06-23 17:21:20 [scrapy.crawler] INFO: Overridden settings:\n",
      "{}\n",
      "2022-06-23 17:21:20 [scrapy.utils.log] DEBUG: Using reactor: twisted.internet.selectreactor.SelectReactor\n",
      "2022-06-23 17:21:20 [scrapy.extensions.telnet] INFO: Telnet Password: cb0b5f05c0751e32\n",
      "2022-06-23 17:21:20 [scrapy.middleware] INFO: Enabled extensions:\n",
      "['scrapy.extensions.corestats.CoreStats',\n",
      " 'scrapy.extensions.telnet.TelnetConsole',\n",
      " 'scrapy.extensions.logstats.LogStats']\n",
      "2022-06-23 17:21:21 [scrapy.middleware] INFO: Enabled downloader middlewares:\n",
      "['scrapy.downloadermiddlewares.httpauth.HttpAuthMiddleware',\n",
      " 'scrapy.downloadermiddlewares.downloadtimeout.DownloadTimeoutMiddleware',\n",
      " 'scrapy.downloadermiddlewares.defaultheaders.DefaultHeadersMiddleware',\n",
      " 'scrapy.downloadermiddlewares.useragent.UserAgentMiddleware',\n",
      " 'scrapy.downloadermiddlewares.retry.RetryMiddleware',\n",
      " 'scrapy.downloadermiddlewares.redirect.MetaRefreshMiddleware',\n",
      " 'scrapy.downloadermiddlewares.httpcompression.HttpCompressionMiddleware',\n",
      " 'scrapy.downloadermiddlewares.redirect.RedirectMiddleware',\n",
      " 'scrapy.downloadermiddlewares.cookies.CookiesMiddleware',\n",
      " 'scrapy.downloadermiddlewares.httpproxy.HttpProxyMiddleware',\n",
      " 'scrapy.downloadermiddlewares.stats.DownloaderStats']\n",
      "2022-06-23 17:21:21 [scrapy.middleware] INFO: Enabled spider middlewares:\n",
      "['scrapy.spidermiddlewares.httperror.HttpErrorMiddleware',\n",
      " 'scrapy.spidermiddlewares.offsite.OffsiteMiddleware',\n",
      " 'scrapy.spidermiddlewares.referer.RefererMiddleware',\n",
      " 'scrapy.spidermiddlewares.urllength.UrlLengthMiddleware',\n",
      " 'scrapy.spidermiddlewares.depth.DepthMiddleware']\n",
      "2022-06-23 17:21:21 [scrapy.middleware] INFO: Enabled item pipelines:\n",
      "[]\n",
      "2022-06-23 17:21:21 [scrapy.core.engine] INFO: Spider opened\n",
      "2022-06-23 17:21:21 [scrapy.extensions.logstats] INFO: Crawled 0 pages (at 0 pages/min), scraped 0 items (at 0 items/min)\n",
      "2022-06-23 17:21:21 [scrapy.extensions.telnet] INFO: Telnet console listening on 127.0.0.1:6023\n",
      "2022-06-23 17:21:22 [filelock] DEBUG: Attempting to acquire lock 2063322999120 on C:\\Users\\User\\AppData\\Local\\Packages\\PythonSoftwareFoundation.Python.3.10_qbz5n2kfra8p0\\LocalCache\\local-packages\\Python310\\site-packages\\tldextract\\.suffix_cache/publicsuffix.org-tlds\\de84b5ca2167d4c83e38fb162f2e8738.tldextract.json.lock\n",
      "2022-06-23 17:21:22 [filelock] DEBUG: Lock 2063322999120 acquired on C:\\Users\\User\\AppData\\Local\\Packages\\PythonSoftwareFoundation.Python.3.10_qbz5n2kfra8p0\\LocalCache\\local-packages\\Python310\\site-packages\\tldextract\\.suffix_cache/publicsuffix.org-tlds\\de84b5ca2167d4c83e38fb162f2e8738.tldextract.json.lock\n",
      "2022-06-23 17:21:22 [filelock] DEBUG: Attempting to release lock 2063322999120 on C:\\Users\\User\\AppData\\Local\\Packages\\PythonSoftwareFoundation.Python.3.10_qbz5n2kfra8p0\\LocalCache\\local-packages\\Python310\\site-packages\\tldextract\\.suffix_cache/publicsuffix.org-tlds\\de84b5ca2167d4c83e38fb162f2e8738.tldextract.json.lock\n",
      "2022-06-23 17:21:22 [filelock] DEBUG: Lock 2063322999120 released on C:\\Users\\User\\AppData\\Local\\Packages\\PythonSoftwareFoundation.Python.3.10_qbz5n2kfra8p0\\LocalCache\\local-packages\\Python310\\site-packages\\tldextract\\.suffix_cache/publicsuffix.org-tlds\\de84b5ca2167d4c83e38fb162f2e8738.tldextract.json.lock\n",
      "2022-06-23 17:21:22 [scrapy.core.engine] DEBUG: Crawled (200) <GET https://www.linkedin.com/jobs/search/?distance=25.0&f_E=3&f_WT=2&geoId=106057199&keywords=Ci%C3%AAncia%20de%20dados> (referer: None)\n",
      "2022-06-23 17:21:22 [scrapy.core.scraper] ERROR: Spider error processing <GET https://www.linkedin.com/jobs/search/?distance=25.0&f_E=3&f_WT=2&geoId=106057199&keywords=Ci%C3%AAncia%20de%20dados> (referer: None)\n",
      "Traceback (most recent call last):\n",
      "  File \"C:\\Users\\User\\AppData\\Local\\Packages\\PythonSoftwareFoundation.Python.3.10_qbz5n2kfra8p0\\LocalCache\\local-packages\\Python310\\site-packages\\twisted\\internet\\defer.py\", line 857, in _runCallbacks\n",
      "    current.result = callback(  # type: ignore[misc]\n",
      "  File \"C:\\Users\\User\\AppData\\Local\\Temp\\ipykernel_6896\\3036898517.py\", line 17, in parse_urls\n",
      "    urls = sel.xpath('//div[@class=\"full-width artdeco-entity-lockup__title ember-view\"]/a/@href').extract()\n",
      "NameError: name 'sel' is not defined\n",
      "2022-06-23 17:21:22 [scrapy.core.engine] INFO: Closing spider (finished)\n",
      "2022-06-23 17:21:22 [scrapy.statscollectors] INFO: Dumping Scrapy stats:\n",
      "{'downloader/request_bytes': 306,\n",
      " 'downloader/request_count': 1,\n",
      " 'downloader/request_method_count/GET': 1,\n",
      " 'downloader/response_bytes': 22685,\n",
      " 'downloader/response_count': 1,\n",
      " 'downloader/response_status_count/200': 1,\n",
      " 'elapsed_time_seconds': 1.082551,\n",
      " 'finish_reason': 'finished',\n",
      " 'finish_time': datetime.datetime(2022, 6, 23, 20, 21, 22, 798364),\n",
      " 'httpcompression/response_bytes': 160163,\n",
      " 'httpcompression/response_count': 1,\n",
      " 'log_count/DEBUG': 6,\n",
      " 'log_count/ERROR': 1,\n",
      " 'log_count/INFO': 10,\n",
      " 'response_received_count': 1,\n",
      " 'scheduler/dequeued': 1,\n",
      " 'scheduler/dequeued/memory': 1,\n",
      " 'scheduler/enqueued': 1,\n",
      " 'scheduler/enqueued/memory': 1,\n",
      " 'spider_exceptions/NameError': 1,\n",
      " 'start_time': datetime.datetime(2022, 6, 23, 20, 21, 21, 715813)}\n",
      "2022-06-23 17:21:22 [scrapy.core.engine] INFO: Spider closed (finished)\n"
     ]
    }
   ],
   "source": [
    "import scrapy\n",
    "# Import the CrawlerProcess: for running the spider\n",
    "from scrapy.crawler import CrawlerProcess\n",
    "url_linkedin = \"https://www.linkedin.com/jobs/search/?distance=25.0&f_E=3&f_WT=2&geoId=106057199&keywords=Ci%C3%AAncia%20de%20dados\"\n",
    "\n",
    "# Create the Spider class\n",
    "class Job_Details_Spider(scrapy.Spider):\n",
    "  name = \"job_details_spider\"\n",
    "  # start_requests method\n",
    "  def start_requests(self):\n",
    "    yield scrapy.Request(url = url_linkedin,\n",
    "                         callback = self.parse_urls)\n",
    "  # First parsing method\n",
    "  def parse_urls(self, response):\n",
    "    #get number of pages\n",
    "    \n",
    "    urls = sel.xpath('//div[@class=\"full-width artdeco-entity-lockup__title ember-view\"]/a/@href').extract()\n",
    "    first_url = urls[0]\n",
    "    print(urls[0])\n",
    "    #number_pages = int(pages[-1])\n",
    "    \n",
    "    '''for url in links_to_follow:\n",
    "      yield response.follow(url = url,\n",
    "                            callback = self.parse_pages)'''\n",
    "  # Second parsing method\n",
    "  def parse_pages(self, response):\n",
    "    x =1\n",
    "\n",
    "\n",
    "\n",
    "\n",
    "# Run the Spider\n",
    "process = CrawlerProcess()\n",
    "process.crawl(Job_Details_Spider)\n",
    "process.start()\n",
    "\n"
   ]
  },
  {
   "cell_type": "code",
   "execution_count": 12,
   "metadata": {},
   "outputs": [
    {
     "name": "stdout",
     "output_type": "stream",
     "text": [
      "<Selector xpath=None data='<html lang=\"en\">\\n      <head>\\n       ...'>\n",
      "<Selector xpath=None data='<html lang=\"en\">\\n      <head>\\n       ...'>\n"
     ]
    },
    {
     "ename": "IndexError",
     "evalue": "list index out of range",
     "output_type": "error",
     "traceback": [
      "\u001b[1;31m---------------------------------------------------------------------------\u001b[0m",
      "\u001b[1;31mIndexError\u001b[0m                                Traceback (most recent call last)",
      "\u001b[1;32mc:\\Users\\User\\Desktop\\backup onedrive\\Projetos\\Web Scrapping\\DataScience_Requeriments.ipynb Cell 6'\u001b[0m in \u001b[0;36m<cell line: 7>\u001b[1;34m()\u001b[0m\n\u001b[0;32m      <a href='vscode-notebook-cell:/c%3A/Users/User/Desktop/backup%20onedrive/Projetos/Web%20Scrapping/DataScience_Requeriments.ipynb#ch0000005?line=4'>5</a>\u001b[0m sel \u001b[39m=\u001b[39m Selector(text \u001b[39m=\u001b[39m html)\n\u001b[0;32m      <a href='vscode-notebook-cell:/c%3A/Users/User/Desktop/backup%20onedrive/Projetos/Web%20Scrapping/DataScience_Requeriments.ipynb#ch0000005?line=5'>6</a>\u001b[0m \u001b[39mprint\u001b[39m(sel)\n\u001b[1;32m----> <a href='vscode-notebook-cell:/c%3A/Users/User/Desktop/backup%20onedrive/Projetos/Web%20Scrapping/DataScience_Requeriments.ipynb#ch0000005?line=6'>7</a>\u001b[0m Job_Details_Spider\u001b[39m.\u001b[39;49mparse_urls(\u001b[39m0\u001b[39;49m,sel)\n",
      "\u001b[1;32mc:\\Users\\User\\Desktop\\backup onedrive\\Projetos\\Web Scrapping\\DataScience_Requeriments.ipynb Cell 5'\u001b[0m in \u001b[0;36mJob_Details_Spider.parse_urls\u001b[1;34m(self, response)\u001b[0m\n\u001b[0;32m     <a href='vscode-notebook-cell:/c%3A/Users/User/Desktop/backup%20onedrive/Projetos/Web%20Scrapping/DataScience_Requeriments.ipynb#ch0000004?line=15'>16</a>\u001b[0m \u001b[39mprint\u001b[39m(response)\n\u001b[0;32m     <a href='vscode-notebook-cell:/c%3A/Users/User/Desktop/backup%20onedrive/Projetos/Web%20Scrapping/DataScience_Requeriments.ipynb#ch0000004?line=16'>17</a>\u001b[0m buttons \u001b[39m=\u001b[39m response\u001b[39m.\u001b[39mxpath(\u001b[39m'\u001b[39m\u001b[39m//li[@class = \u001b[39m\u001b[39m\"\u001b[39m\u001b[39martdeco-pagination__indicator artdeco-pagination__indicator--number ember-view\u001b[39m\u001b[39m\"\u001b[39m\u001b[39m]/@data-test-pagination-page-btn\u001b[39m\u001b[39m'\u001b[39m)\u001b[39m.\u001b[39mextract()\n\u001b[1;32m---> <a href='vscode-notebook-cell:/c%3A/Users/User/Desktop/backup%20onedrive/Projetos/Web%20Scrapping/DataScience_Requeriments.ipynb#ch0000004?line=18'>19</a>\u001b[0m pages \u001b[39m=\u001b[39m \u001b[39mint\u001b[39m(buttons[\u001b[39m-\u001b[39;49m\u001b[39m1\u001b[39;49m])\n\u001b[0;32m     <a href='vscode-notebook-cell:/c%3A/Users/User/Desktop/backup%20onedrive/Projetos/Web%20Scrapping/DataScience_Requeriments.ipynb#ch0000004?line=20'>21</a>\u001b[0m \u001b[39m'''for url in links_to_follow:\u001b[39;00m\n\u001b[0;32m     <a href='vscode-notebook-cell:/c%3A/Users/User/Desktop/backup%20onedrive/Projetos/Web%20Scrapping/DataScience_Requeriments.ipynb#ch0000004?line=21'>22</a>\u001b[0m \u001b[39m  yield response.follow(url = url,\u001b[39;00m\n\u001b[0;32m     <a href='vscode-notebook-cell:/c%3A/Users/User/Desktop/backup%20onedrive/Projetos/Web%20Scrapping/DataScience_Requeriments.ipynb#ch0000004?line=22'>23</a>\u001b[0m \u001b[39m                        callback = self.parse_pages)'''\u001b[39;00m\n",
      "\u001b[1;31mIndexError\u001b[0m: list index out of range"
     ]
    }
   ],
   "source": [
    "import requests\n",
    "from scrapy import Selector\n",
    "\n",
    "html = requests.get( url_linkedin ).content\n",
    "sel = Selector(text = html)\n",
    "print(sel)\n",
    "Job_Details_Spider.parse_urls(0,sel)"
   ]
  }
 ],
 "metadata": {
  "kernelspec": {
   "display_name": "Python 3.10.5 64-bit (windows store)",
   "language": "python",
   "name": "python3"
  },
  "language_info": {
   "codemirror_mode": {
    "name": "ipython",
    "version": 3
   },
   "file_extension": ".py",
   "mimetype": "text/x-python",
   "name": "python",
   "nbconvert_exporter": "python",
   "pygments_lexer": "ipython3",
   "version": "3.10.5"
  },
  "orig_nbformat": 4,
  "vscode": {
   "interpreter": {
    "hash": "3b7e9cb8e453d6cda0fe8c8dd13f891a1f09162f0e7c66ffeae7751a7aecf00d"
   }
  }
 },
 "nbformat": 4,
 "nbformat_minor": 2
}
