{
 "cells": [
  {
   "cell_type": "code",
   "execution_count": 1,
   "metadata": {},
   "outputs": [
    {
     "name": "stdout",
     "output_type": "stream",
     "text": [
      "\n"
     ]
    },
    {
     "name": "stderr",
     "output_type": "stream",
     "text": [
      "[WDM] - ====== WebDriver manager ======\n",
      "[WDM] - Current google-chrome version is 103.0.5060\n",
      "[WDM] - Get LATEST chromedriver version for 103.0.5060 google-chrome\n",
      "[WDM] - About to download new driver from https://chromedriver.storage.googleapis.com/103.0.5060.134/chromedriver_win32.zip\n",
      "[WDM] - Driver has been saved in cache [C:\\Users\\User\\.wdm\\drivers\\chromedriver\\win32\\103.0.5060.134]\n",
      "C:\\Users\\User\\AppData\\Local\\Temp\\ipykernel_14924\\3996893742.py:17: DeprecationWarning: executable_path has been deprecated, please pass in a Service object\n",
      "  driver = webdriver.Chrome(ChromeDriverManager().install())\n"
     ]
    },
    {
     "data": {
      "text/plain": [
       "'html = driver.page_source\\n\\nwith open(\\'data/html_request.html\\', \\'w\\',encoding=\"utf-8\") as f:\\n    f.write(str(html))\\n'"
      ]
     },
     "execution_count": 1,
     "metadata": {},
     "output_type": "execute_result"
    }
   ],
   "source": [
    "\n",
    "#imoirt packages\n",
    "import time\n",
    "\n",
    "from selenium import webdriver\n",
    "from selenium.webdriver.chrome.options import Options\n",
    "\n",
    "from selenium import webdriver\n",
    "from webdriver_manager.chrome import ChromeDriverManager\n",
    "from selenium.webdriver.common.by import By\n",
    "\n",
    "SCROLL_PAUSE_TIME = 1\n",
    "url= \"https://www.linkedin.com/jobs/search/?keywords=Ci%C3%AAncia%20De%20Dados&location=Brasil&locationId=&geoId=106057199&f_TPR=&position=1&pageNum=0\"\n",
    "\n",
    "#set the optionsof the driver\n",
    "options = Options()\n",
    "options.headless = True\n",
    "driver = webdriver.Chrome(ChromeDriverManager().install())\n",
    "\n",
    "\n",
    "driver.get(url)\n",
    "\n",
    "time.sleep(SCROLL_PAUSE_TIME)\n",
    "\n",
    "#get the button to close the pop-up\n",
    "button =  driver.find_elements(By.XPATH,'//button[@class=\"cta-modal__dismiss-btn absolute top-2 right-2 hover:cursor-pointer focus:outline focus:outline-2 focus:outline-color-action\"]')\n",
    "button[0].click()\n",
    "\n",
    "\n",
    "#start timer\n",
    "start_time = time.time()\n",
    "# Get scroll height\n",
    "last_height = driver.execute_script(\"return document.body.scrollHeight\")\n",
    "flag = 0\n",
    "#loop until there is no more new jobs in the page\n",
    "while (flag == 0):\n",
    "\n",
    "    # Scroll up to refresh new jobs\n",
    "    driver.execute_script(\"window.scrollTo(0, 100);\")\n",
    "    time.sleep(SCROLL_PAUSE_TIME)\n",
    "    # Scroll down to bottom\n",
    "    driver.execute_script(\"window.scrollTo(0, document.body.scrollHeight);\")\n",
    "\n",
    "    # Wait to load page\n",
    "    time.sleep(SCROLL_PAUSE_TIME)\n",
    "\n",
    "    # Calculate new scroll height and compare with last scroll height\n",
    "    new_height = driver.execute_script(\"return document.body.scrollHeight\")\n",
    "    if new_height == last_height:\n",
    "        time.sleep(SCROLL_PAUSE_TIME)\n",
    "        #search in the html code if there is a button to show more jobs\n",
    "        button =  driver.find_elements(By.XPATH,'//button[@class=\"infinite-scroller__show-more-button infinite-scroller__show-more-button--visible\"]')\n",
    "        if(button):\n",
    "            #click the button to show more jobs\n",
    "            button[0].click()\n",
    "        else:\n",
    "            flag = 1\n",
    "    #get how long the scrap are executing\n",
    "    time_spent = time.time() - start_time  \n",
    "\n",
    "    #get out of loop if time > 10min\n",
    "    if time_spent > 600:\n",
    "        flag = 1   \n",
    "    last_height = new_height\n",
    "\n",
    "\n",
    "elements = driver.find_elements(By.XPATH,'//a[@class=\"base-card__full-link absolute top-0 right-0 bottom-0 left-0 p-0 z-[2]\"]')\n",
    "\n",
    "urls = [e.get_attribute(\"href\") for e in elements]\n",
    "\n",
    "\n",
    "elements2 = driver.find_elements(By.XPATH,'//a[@data-tracking-control-name=\"public_jobs_jserp-result_search-card\"]')\n",
    "urls.append(e.get_attribute(\"href\") for e in elements2)\n",
    "#print(len(urls))\n",
    "\n",
    "elements = driver.find_elements(By.XPATH,'//span[@class=\"sr-only\"]')\n",
    "job_titles = [e.text for e in elements]\n",
    "#print(job_titles)\n",
    "\n",
    "\n",
    "\"\"\"html = driver.page_source\n",
    "\n",
    "with open('data/html_request.html', 'w',encoding=\"utf-8\") as f:\n",
    "    f.write(str(html))\n",
    "\"\"\"\n"
   ]
  },
  {
   "cell_type": "code",
   "execution_count": 22,
   "metadata": {},
   "outputs": [
    {
     "name": "stdout",
     "output_type": "stream",
     "text": [
      "442\n"
     ]
    }
   ],
   "source": [
    "data_science_terms = [\"cientista\",\"dado\",\"analista\",\"bi\",\"analytics\",\"data\",\"science\",\"ai\",\"big data\",\"machine learning\",\"scientist\"]\n",
    "\n",
    "data_science_job_titles = []\n",
    "\n",
    "for title in job_titles:\n",
    "    flag = 0\n",
    "    for term in data_science_terms:\n",
    "        if term in title.lower():\n",
    "            if flag == 0:\n",
    "                data_science_job_titles.append(title)\n",
    "                flag = 1\n",
    "\n",
    "print(len(set(data_science_job_titles)))\n",
    "\n"
   ]
  },
  {
   "cell_type": "code",
   "execution_count": 2,
   "metadata": {},
   "outputs": [],
   "source": [
    "requiriments = {\"Python\": 0,\n",
    "\"SQL\":0,\n",
    "\"Excel\":0,\n",
    "\" R \":0,\n",
    "\"modelagem de dados\":0,\n",
    "\"probabilidade\":0,\n",
    "\"estatística\":0,\n",
    "\"Machine Learning\":0,\n",
    "\"Power BI\":0,\n",
    "\"Inglês\":0, \n",
    "\"ETL\":0,\n",
    "\"Linux\":0,\n",
    "\"MongoDB\" :0,\n",
    "\"Elasticsearch\":0,\n",
    "\"AWS\":0, \n",
    "\"Tableau\":0,\n",
    "\"Oracle\":0,\n",
    "\"Scala\":0,\n",
    "\"SAS\" :0,\n",
    "\"Kagle\":0,\n",
    "\"Shiny\":0,\n",
    "\"GCP\":0,\n",
    "\"MLOP\":0,\n",
    "\"Data Bricks\":0,\n",
    "\"Spark\":0,\n",
    "\"Pentaho\":0,\n",
    "\" C \":0,\n",
    "\"C++\":0,\n",
    "\"NLP\":0,\n",
    "\"Redshift\":0,\n",
    "\"VBA\":0,\n",
    "\"Azure\":0,\n",
    "\"Data Science\":0\n",
    "}"
   ]
  },
  {
   "cell_type": "code",
   "execution_count": 3,
   "metadata": {},
   "outputs": [
    {
     "data": {
      "text/plain": [
       "939"
      ]
     },
     "execution_count": 3,
     "metadata": {},
     "output_type": "execute_result"
    }
   ],
   "source": [
    "len(urls)"
   ]
  },
  {
   "cell_type": "code",
   "execution_count": 15,
   "metadata": {},
   "outputs": [
    {
     "name": "stdout",
     "output_type": "stream",
     "text": [
      "\n"
     ]
    },
    {
     "name": "stderr",
     "output_type": "stream",
     "text": [
      "[WDM] - ====== WebDriver manager ======\n",
      "[WDM] - Current google-chrome version is 103.0.5060\n",
      "[WDM] - Get LATEST chromedriver version for 103.0.5060 google-chrome\n",
      "[WDM] - Driver [C:\\Users\\User\\.wdm\\drivers\\chromedriver\\win32\\103.0.5060.134\\chromedriver.exe] found in cache\n",
      "C:\\Users\\User\\AppData\\Local\\Temp\\ipykernel_14924\\2474899797.py:2: DeprecationWarning: executable_path has been deprecated, please pass in a Service object\n",
      "  driver = webdriver.Chrome(ChromeDriverManager().install())\n"
     ]
    }
   ],
   "source": [
    "#start driver\n",
    "driver = webdriver.Chrome(ChromeDriverManager().install())\n",
    "#list of urls that got some error\n",
    "urls_error = []\n",
    "#loop for all urls jobs\n",
    "for url in urls:\n",
    "    \n",
    "    time.sleep(3)\n",
    "    driver.get(url)\n",
    "    \n",
    "    #if there is a job description search for the requiriment in text\n",
    "    try:\n",
    "        job_description = driver.find_element(By.XPATH,'//div[@class=\"show-more-less-html__markup show-more-less-html__markup--clamp-after-5\"]')\n",
    "        text = job_description.text\n",
    "        for requiriment in requiriments.keys():\n",
    "            if requiriment in text:\n",
    "                requiriments[requiriment] += 1\n",
    "    #urls that gave error\n",
    "    except:\n",
    "        urls_error.append(url)\n"
   ]
  },
  {
   "cell_type": "code",
   "execution_count": 16,
   "metadata": {},
   "outputs": [
    {
     "data": {
      "text/plain": [
       "0"
      ]
     },
     "execution_count": 16,
     "metadata": {},
     "output_type": "execute_result"
    }
   ],
   "source": [
    "urls = urls_error\n",
    "len(urls)"
   ]
  },
  {
   "cell_type": "code",
   "execution_count": 17,
   "metadata": {},
   "outputs": [],
   "source": [
    "with open(\"data/requiriments_results.txt\", 'w') as f: \n",
    "    for key, value in requiriments.items(): \n",
    "        f.write('%s:%s\\n' % (key, value))"
   ]
  },
  {
   "cell_type": "code",
   "execution_count": 24,
   "metadata": {},
   "outputs": [
    {
     "data": {
      "text/plain": [
       "{'SQL': 94,\n",
       " 'Python': 62,\n",
       " 'Inglês': 62,\n",
       " 'Excel': 61,\n",
       " 'estatística': 58,\n",
       " 'Power BI': 48,\n",
       " 'AWS': 41,\n",
       " 'Machine Learning': 40,\n",
       " 'ETL': 33,\n",
       " 'Azure': 30,\n",
       " 'SAS': 22,\n",
       " 'Oracle': 21,\n",
       " 'Tableau': 18,\n",
       " 'Spark': 18,\n",
       " 'Data Science': 18,\n",
       " 'modelagem de dados': 15,\n",
       " 'Linux': 15,\n",
       " 'GCP': 12,\n",
       " ' R ': 9,\n",
       " 'VBA': 7,\n",
       " 'MongoDB': 5,\n",
       " 'Scala': 4,\n",
       " 'C++': 4,\n",
       " 'Redshift': 4,\n",
       " ' C ': 3,\n",
       " 'NLP': 3,\n",
       " 'Data Bricks': 2,\n",
       " 'Pentaho': 2,\n",
       " 'probabilidade': 0,\n",
       " 'Elasticsearch': 0,\n",
       " 'Kagle': 0,\n",
       " 'Shiny': 0,\n",
       " 'MLOP': 0}"
      ]
     },
     "execution_count": 24,
     "metadata": {},
     "output_type": "execute_result"
    }
   ],
   "source": [
    "requiriments=dict(sorted(requiriments.items(), key=lambda item: item[1],reverse=True))\n",
    "requiriments"
   ]
  },
  {
   "cell_type": "code",
   "execution_count": 37,
   "metadata": {},
   "outputs": [
    {
     "data": {
      "image/png": "[encoded data removed]",
      "text/plain": [
       "<Figure size 432x288 with 1 Axes>"
      ]
     },
     "metadata": {
      "needs_background": "light"
     },
     "output_type": "display_data"
    }
   ],
   "source": [
    "import matplotlib.pyplot as plt\n",
    "\n",
    "names = list(requiriments.keys())[:20]\n",
    "values = list(requiriments.values())[:20]\n",
    "\n",
    "plt.bar(range(len(names)),values,tick_label=names)\n",
    "plt.title(\"Top 20 requisitos das vagas de cietista de dados\")\n",
    "plt.xticks(rotation = 90)\n",
    "plt.show()"
   ]
  },
  {
   "cell_type": "code",
   "execution_count": 39,
   "metadata": {},
   "outputs": [
    {
     "data": {
      "image/png": "[encoded data removed]",
      "text/plain": [
       "<Figure size 432x288 with 1 Axes>"
      ]
     },
     "metadata": {
      "needs_background": "light"
     },
     "output_type": "display_data"
    }
   ],
   "source": [
    "languages = [\"SQL\",\"Python\",\"Excel\",\"R\",\"Scala\",\"C++\",\"C\"]\n",
    "languages_values = [requiriments[\"SQL\"],requiriments[\"Python\"],requiriments[\"Excel\"],requiriments[\" R \"],requiriments[\"Scala\"],requiriments[\"C++\"],requiriments[\" C \"]]\n",
    "\n",
    "plt.bar(range(len(languages)),languages_values,tick_label=languages)\n",
    "plt.xticks(rotation=90)\n",
    "plt.show()"
   ]
  },
  {
   "cell_type": "code",
   "execution_count": 42,
   "metadata": {},
   "outputs": [
    {
     "data": {
      "image/png": "[encoded data removed]",
      "text/plain": [
       "<Figure size 432x288 with 1 Axes>"
      ]
     },
     "metadata": {
      "needs_background": "light"
     },
     "output_type": "display_data"
    }
   ],
   "source": [
    "plataforms = [\"AWS\",\"Azure\",\"SAS\",\"Oracle\",\"GCP\"]\n",
    "plataforms_values = [requiriments[\"AWS\"],requiriments[\"Azure\"],requiriments[\"SAS\"],requiriments[\"Oracle\"],requiriments[\"GCP\"]]\n",
    "\n",
    "plt.bar(range(len(plataforms)),plataforms_values,tick_label=plataforms)\n",
    "plt.xticks(rotation=90)\n",
    "plt.show()"
   ]
  }
 ],
 "metadata": {
  "kernelspec": {
   "display_name": "Python 3.10.5 64-bit (windows store)",
   "language": "python",
   "name": "python3"
  },
  "language_info": {
   "codemirror_mode": {
    "name": "ipython",
    "version": 3
   },
   "file_extension": ".py",
   "mimetype": "text/x-python",
   "name": "python",
   "nbconvert_exporter": "python",
   "pygments_lexer": "ipython3",
   "version": "3.10.5"
  },
  "orig_nbformat": 4,
  "vscode": {
   "interpreter": {
    "hash": "3b7e9cb8e453d6cda0fe8c8dd13f891a1f09162f0e7c66ffeae7751a7aecf00d"
   }
  }
 },
 "nbformat": 4,
 "nbformat_minor": 2
}
